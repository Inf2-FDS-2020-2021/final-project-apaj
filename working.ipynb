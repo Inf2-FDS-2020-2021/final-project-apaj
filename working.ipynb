{
 "cells": [
  {
   "cell_type": "markdown",
   "metadata": {},
   "source": [
    "# Timeline \n",
    "\n",
    "Source: https://spice-spotlight.scot/2021/03/05/timeline-of-coronavirus-covid-19-in-scotland/\n",
    "* 31 December 2019 - Chinese authorities alert WHO\n",
    "* 23rd March - people only allowed to go outside to buy food, exercise once a day, or go to work if can't from home\n",
    "* 24th March - First day of lockdown \n",
    "* 29th May - Move to phase 1\n",
    "* 11th May - people can go outside more than once a day to exercise (household only)\n",
    "* 19th June - phase 2\n",
    "* 29th June - Highstreet retail open, safe return Uni announced \n",
    "* 3rd July - 5 mile rule travel distance relaxed \n",
    "* 6th July - Outdoor hospitality opens \n",
    "* 8 July - can meet with two different households up to 8 people \n",
    "* 10 July - move to phase 3 (in doors up to 8 people, overnight allowed) \n",
    "* 13 July - dentists, shopping centers allowed to open\n",
    "* 15 July - pubs, resteraunts, holiday accomadtion allowed to open \n",
    "* 16 July - no physical distancing allowed between primary and secondary school \n",
    "* 20 July - oxford show paper that vaccine working (confidence in public increases?)\n",
    "* 11 August - Schools reopen\n",
    "* 20 August - Scotlant remains in Stage 3\n",
    "* 27 August - Police granted power to stop household parties \n",
    "* 10 Septemeber - limiiting indoor and outdoor gatherings to 6 people \n",
    "* 21 September - University of Edinburgh starts\n",
    "* 22 Sep - national curfew for pubs and restaurants \n",
    "* 7 October - hospitality restriced to 6am to 6pm no sale alcohol indoors, premises may open outdoors until 10pm, with sales of alcohol. All licensed premises in the central belt area will be required to close, with the exception of takeaway services. Outdoor live events, adult contact sports and indoor group exercise classes (18+) are to be paused\n",
    "* 9 November - '90% protection' vaccine announced \n",
    "* 17 November - Edinburgh remains level 3\n",
    "* 8 december - Plans to start vaccinations \n",
    "* 30 December - Scottish Government urge the public to stay home during Hogmanay to suppress COVID-19.\n",
    "* 5 January - Scottish Government announce mainland Scotland is to go into lockdown from 5 January 2021 with a new legal requirement forbidding anyone from leaving their home except for essential purposes. Suspension of all travel corridors\n",
    "* 16 January - Lockdown restrictions strengthened\n",
    "* 5 Feburary - mandatory hotel quarantine announced for 15 Feb when traveling from banned countries \n",
    "* 2 march - announcement for primary school children to return to school"
   ]
  },
  {
   "cell_type": "markdown",
   "metadata": {},
   "source": [
    "# Key things to look for\n",
    "* We can assume dates before 2020 are valid as a comparison for pre-COVID days. \n",
    "* Is there a sudden drop in activity at the initial lockdown?\n",
    "* What about transition phase; did people begin to get cautious with all the talk before official lockdown?\n",
    "* Is there a clear point where public confidence grows and they stop caring about the restrictions?\n",
    "* We'd expect biking activity to increase mid July due to a lot of lifted restrictions, does data reflect this? \n",
    "* What is night time activity on bikes like before and after the early closing of restaurants and pubs?\n",
    "* Does bike activity increase when people are allowed to go and exercise?\n",
    "* People are forbidden to leave hom from 5th January -- does data reflect this? "
   ]
  }
 ],
 "metadata": {
  "kernelspec": {
   "display_name": "Python 3",
   "language": "python",
   "name": "python3"
  },
  "language_info": {
   "codemirror_mode": {
    "name": "ipython",
    "version": 3
   },
   "file_extension": ".py",
   "mimetype": "text/x-python",
   "name": "python",
   "nbconvert_exporter": "python",
   "pygments_lexer": "ipython3",
   "version": "3.9.0"
  }
 },
 "nbformat": 4,
 "nbformat_minor": 4
}
